{
  "nbformat": 4,
  "nbformat_minor": 0,
  "metadata": {
    "anaconda-cloud": {},
    "kernelspec": {
      "display_name": "Python 3",
      "language": "python",
      "name": "python3"
    },
    "language_info": {
      "codemirror_mode": {
        "name": "ipython",
        "version": 3
      },
      "file_extension": ".py",
      "mimetype": "text/x-python",
      "name": "python",
      "nbconvert_exporter": "python",
      "pygments_lexer": "ipython3",
      "version": "3.7.3"
    },
    "colab": {
      "name": "CS634_Assignment1_parvathy.ipynb",
      "provenance": [],
      "toc_visible": true,
      "include_colab_link": true
    }
  },
  "cells": [
    {
      "cell_type": "markdown",
      "metadata": {
        "id": "view-in-github",
        "colab_type": "text"
      },
      "source": [
        "<a href=\"https://colab.research.google.com/github/parvathy-nsarma/Data_Mining/blob/main/CS634_Assignment1_parvathy.ipynb\" target=\"_parent\"><img src=\"https://colab.research.google.com/assets/colab-badge.svg\" alt=\"Open In Colab\"/></a>"
      ]
    },
    {
      "cell_type": "markdown",
      "metadata": {
        "id": "ceRmVgOq6XmY"
      },
      "source": [
        "# 1. Introduction"
      ]
    },
    {
      "cell_type": "markdown",
      "metadata": {
        "id": "Wj_RTULpriir"
      },
      "source": [
        "<table class=\"tfo-notebook-buttons\" align=\"left\">\n",
        "  \n",
        "  <td>\n",
        "    <a target=\"_blank\" href=\"https://colab.research.google.com/github/pantelis/PRML/blob/master/notebooks/ch01_Introduction.ipynb\"><img src=\"https://www.tensorflow.org/images/colab_logo_32px.png\" />Run in Google Colab</a>\n",
        "  </td>\n",
        "</table>"
      ]
    },
    {
      "cell_type": "code",
      "metadata": {
        "id": "TMxmVuag7eyA",
        "colab": {
          "base_uri": "https://localhost:8080/"
        },
        "outputId": "9e749a04-b115-4c33-9d02-40e26e29ca42"
      },
      "source": [
        "from google.colab import drive\n",
        "drive.mount('/content/drive')"
      ],
      "execution_count": 6,
      "outputs": [
        {
          "output_type": "stream",
          "text": [
            "Mounted at /content/drive\n"
          ],
          "name": "stdout"
        }
      ]
    },
    {
      "cell_type": "code",
      "metadata": {
        "id": "F3rYRMAD6ynO",
        "colab": {
          "base_uri": "https://localhost:8080/"
        },
        "outputId": "97b61f1a-5879-4c52-d2eb-f1a31bca8b7e"
      },
      "source": [
        "# You need to adjust the directory names below for your own account\n",
        "# e.g. you may elect to create ms-notebooks dir or not\n",
        "\n",
        "# Execute this cell once\n",
        "\n",
        "# 1. Download the repo and set it as the current directory\n",
        "%cd /content/drive/My Drive/Colab Notebooks/ml-notebooks\n",
        "!git clone https://github.com/pantelis/PRML\n",
        "%cd /content/drive/My Drive/Colab Notebooks/ml-notebooks/PRML\n",
        "\n",
        "\n",
        "\n"
      ],
      "execution_count": 7,
      "outputs": [
        {
          "output_type": "stream",
          "text": [
            "/content/drive/My Drive/Colab Notebooks/ml-notebooks\n",
            "fatal: destination path 'PRML' already exists and is not an empty directory.\n",
            "/content/drive/My Drive/Colab Notebooks/ml-notebooks/PRML\n"
          ],
          "name": "stdout"
        }
      ]
    },
    {
      "cell_type": "markdown",
      "metadata": {
        "id": "k4Kt_kPq08dX"
      },
      "source": [
        "# New Section"
      ]
    },
    {
      "cell_type": "code",
      "metadata": {
        "id": "8nnex69ivGEk"
      },
      "source": [
        ""
      ],
      "execution_count": 7,
      "outputs": []
    },
    {
      "cell_type": "code",
      "metadata": {
        "id": "uv8nquQorAU8",
        "colab": {
          "base_uri": "https://localhost:8080/"
        },
        "outputId": "64c7b0c6-58df-4839-8070-23b8dd4f92d2"
      },
      "source": [
        "# 2. install the project/module\r\n",
        "!python setup.py install"
      ],
      "execution_count": 8,
      "outputs": [
        {
          "output_type": "stream",
          "text": [
            "running install\n",
            "running bdist_egg\n",
            "running egg_info\n",
            "writing prml.egg-info/PKG-INFO\n",
            "writing dependency_links to prml.egg-info/dependency_links.txt\n",
            "writing requirements to prml.egg-info/requires.txt\n",
            "writing top-level names to prml.egg-info/top_level.txt\n",
            "writing manifest file 'prml.egg-info/SOURCES.txt'\n",
            "installing library code to build/bdist.linux-x86_64/egg\n",
            "running install_lib\n",
            "running build_py\n",
            "creating build/bdist.linux-x86_64/egg\n",
            "creating build/bdist.linux-x86_64/egg/prml\n",
            "copying build/lib/prml/__init__.py -> build/bdist.linux-x86_64/egg/prml\n",
            "creating build/bdist.linux-x86_64/egg/prml/bayesnet\n",
            "copying build/lib/prml/bayesnet/probability_function.py -> build/bdist.linux-x86_64/egg/prml/bayesnet\n",
            "copying build/lib/prml/bayesnet/discrete.py -> build/bdist.linux-x86_64/egg/prml/bayesnet\n",
            "copying build/lib/prml/bayesnet/__init__.py -> build/bdist.linux-x86_64/egg/prml/bayesnet\n",
            "copying build/lib/prml/bayesnet/random_variable.py -> build/bdist.linux-x86_64/egg/prml/bayesnet\n",
            "creating build/bdist.linux-x86_64/egg/prml/clustering\n",
            "copying build/lib/prml/clustering/k_means.py -> build/bdist.linux-x86_64/egg/prml/clustering\n",
            "copying build/lib/prml/clustering/__init__.py -> build/bdist.linux-x86_64/egg/prml/clustering\n",
            "creating build/bdist.linux-x86_64/egg/prml/dimreduction\n",
            "copying build/lib/prml/dimreduction/bayesian_pca.py -> build/bdist.linux-x86_64/egg/prml/dimreduction\n",
            "copying build/lib/prml/dimreduction/autoencoder.py -> build/bdist.linux-x86_64/egg/prml/dimreduction\n",
            "copying build/lib/prml/dimreduction/__init__.py -> build/bdist.linux-x86_64/egg/prml/dimreduction\n",
            "copying build/lib/prml/dimreduction/pca.py -> build/bdist.linux-x86_64/egg/prml/dimreduction\n",
            "creating build/bdist.linux-x86_64/egg/prml/kernel\n",
            "copying build/lib/prml/kernel/gaussian_process_regressor.py -> build/bdist.linux-x86_64/egg/prml/kernel\n",
            "copying build/lib/prml/kernel/rbf.py -> build/bdist.linux-x86_64/egg/prml/kernel\n",
            "copying build/lib/prml/kernel/polynomial.py -> build/bdist.linux-x86_64/egg/prml/kernel\n",
            "copying build/lib/prml/kernel/relevance_vector_regressor.py -> build/bdist.linux-x86_64/egg/prml/kernel\n",
            "copying build/lib/prml/kernel/relevance_vector_classifier.py -> build/bdist.linux-x86_64/egg/prml/kernel\n",
            "copying build/lib/prml/kernel/support_vector_classifier.py -> build/bdist.linux-x86_64/egg/prml/kernel\n",
            "copying build/lib/prml/kernel/__init__.py -> build/bdist.linux-x86_64/egg/prml/kernel\n",
            "copying build/lib/prml/kernel/gaussian_process_classifier.py -> build/bdist.linux-x86_64/egg/prml/kernel\n",
            "copying build/lib/prml/kernel/kernel.py -> build/bdist.linux-x86_64/egg/prml/kernel\n",
            "creating build/bdist.linux-x86_64/egg/prml/linear\n",
            "copying build/lib/prml/linear/least_squares_classifier.py -> build/bdist.linux-x86_64/egg/prml/linear\n",
            "copying build/lib/prml/linear/__init__.py -> build/bdist.linux-x86_64/egg/prml/linear\n",
            "copying build/lib/prml/linear/emprical_bayes_regression.py -> build/bdist.linux-x86_64/egg/prml/linear\n",
            "copying build/lib/prml/linear/variational_logistic_regression.py -> build/bdist.linux-x86_64/egg/prml/linear\n",
            "copying build/lib/prml/linear/bayesian_logistic_regression.py -> build/bdist.linux-x86_64/egg/prml/linear\n",
            "copying build/lib/prml/linear/fishers_linear_discriminant.py -> build/bdist.linux-x86_64/egg/prml/linear\n",
            "copying build/lib/prml/linear/perceptron.py -> build/bdist.linux-x86_64/egg/prml/linear\n",
            "copying build/lib/prml/linear/softmax_regression.py -> build/bdist.linux-x86_64/egg/prml/linear\n",
            "copying build/lib/prml/linear/variational_linear_regression.py -> build/bdist.linux-x86_64/egg/prml/linear\n",
            "copying build/lib/prml/linear/linear_regression.py -> build/bdist.linux-x86_64/egg/prml/linear\n",
            "copying build/lib/prml/linear/bayesian_regression.py -> build/bdist.linux-x86_64/egg/prml/linear\n",
            "copying build/lib/prml/linear/classifier.py -> build/bdist.linux-x86_64/egg/prml/linear\n",
            "copying build/lib/prml/linear/regression.py -> build/bdist.linux-x86_64/egg/prml/linear\n",
            "copying build/lib/prml/linear/ridge_regression.py -> build/bdist.linux-x86_64/egg/prml/linear\n",
            "copying build/lib/prml/linear/logistic_regression.py -> build/bdist.linux-x86_64/egg/prml/linear\n",
            "creating build/bdist.linux-x86_64/egg/prml/markov\n",
            "copying build/lib/prml/markov/__init__.py -> build/bdist.linux-x86_64/egg/prml/markov\n",
            "copying build/lib/prml/markov/hmm.py -> build/bdist.linux-x86_64/egg/prml/markov\n",
            "copying build/lib/prml/markov/state_space_model.py -> build/bdist.linux-x86_64/egg/prml/markov\n",
            "copying build/lib/prml/markov/categorical_hmm.py -> build/bdist.linux-x86_64/egg/prml/markov\n",
            "copying build/lib/prml/markov/kalman.py -> build/bdist.linux-x86_64/egg/prml/markov\n",
            "copying build/lib/prml/markov/gaussian_hmm.py -> build/bdist.linux-x86_64/egg/prml/markov\n",
            "copying build/lib/prml/markov/particle.py -> build/bdist.linux-x86_64/egg/prml/markov\n",
            "creating build/bdist.linux-x86_64/egg/prml/nn\n",
            "copying build/lib/prml/nn/__init__.py -> build/bdist.linux-x86_64/egg/prml/nn\n",
            "copying build/lib/prml/nn/queue.py -> build/bdist.linux-x86_64/egg/prml/nn\n",
            "copying build/lib/prml/nn/network.py -> build/bdist.linux-x86_64/egg/prml/nn\n",
            "copying build/lib/prml/nn/function.py -> build/bdist.linux-x86_64/egg/prml/nn\n",
            "copying build/lib/prml/nn/config.py -> build/bdist.linux-x86_64/egg/prml/nn\n",
            "creating build/bdist.linux-x86_64/egg/prml/nn/array\n",
            "copying build/lib/prml/nn/array/array.py -> build/bdist.linux-x86_64/egg/prml/nn/array\n",
            "copying build/lib/prml/nn/array/zeros.py -> build/bdist.linux-x86_64/egg/prml/nn/array\n",
            "copying build/lib/prml/nn/array/__init__.py -> build/bdist.linux-x86_64/egg/prml/nn/array\n",
            "copying build/lib/prml/nn/array/reshape.py -> build/bdist.linux-x86_64/egg/prml/nn/array\n",
            "copying build/lib/prml/nn/array/ones.py -> build/bdist.linux-x86_64/egg/prml/nn/array\n",
            "copying build/lib/prml/nn/array/broadcast.py -> build/bdist.linux-x86_64/egg/prml/nn/array\n",
            "creating build/bdist.linux-x86_64/egg/prml/nn/distribution\n",
            "copying build/lib/prml/nn/distribution/categorical.py -> build/bdist.linux-x86_64/egg/prml/nn/distribution\n",
            "copying build/lib/prml/nn/distribution/gaussian.py -> build/bdist.linux-x86_64/egg/prml/nn/distribution\n",
            "copying build/lib/prml/nn/distribution/distribution.py -> build/bdist.linux-x86_64/egg/prml/nn/distribution\n",
            "copying build/lib/prml/nn/distribution/bernoulli.py -> build/bdist.linux-x86_64/egg/prml/nn/distribution\n",
            "copying build/lib/prml/nn/distribution/__init__.py -> build/bdist.linux-x86_64/egg/prml/nn/distribution\n",
            "creating build/bdist.linux-x86_64/egg/prml/nn/image\n",
            "copying build/lib/prml/nn/image/deconvolve2d.py -> build/bdist.linux-x86_64/egg/prml/nn/image\n",
            "copying build/lib/prml/nn/image/util.py -> build/bdist.linux-x86_64/egg/prml/nn/image\n",
            "copying build/lib/prml/nn/image/__init__.py -> build/bdist.linux-x86_64/egg/prml/nn/image\n",
            "copying build/lib/prml/nn/image/max_pooling2d.py -> build/bdist.linux-x86_64/egg/prml/nn/image\n",
            "copying build/lib/prml/nn/image/convolve2d.py -> build/bdist.linux-x86_64/egg/prml/nn/image\n",
            "creating build/bdist.linux-x86_64/egg/prml/nn/io\n",
            "copying build/lib/prml/nn/io/__init__.py -> build/bdist.linux-x86_64/egg/prml/nn/io\n",
            "copying build/lib/prml/nn/io/io.py -> build/bdist.linux-x86_64/egg/prml/nn/io\n",
            "creating build/bdist.linux-x86_64/egg/prml/nn/loss\n",
            "copying build/lib/prml/nn/loss/softmax_cross_entropy.py -> build/bdist.linux-x86_64/egg/prml/nn/loss\n",
            "copying build/lib/prml/nn/loss/kl.py -> build/bdist.linux-x86_64/egg/prml/nn/loss\n",
            "copying build/lib/prml/nn/loss/__init__.py -> build/bdist.linux-x86_64/egg/prml/nn/loss\n",
            "copying build/lib/prml/nn/loss/sigmoid_cross_entropy.py -> build/bdist.linux-x86_64/egg/prml/nn/loss\n",
            "creating build/bdist.linux-x86_64/egg/prml/nn/math\n",
            "copying build/lib/prml/nn/math/log.py -> build/bdist.linux-x86_64/egg/prml/nn/math\n",
            "copying build/lib/prml/nn/math/square.py -> build/bdist.linux-x86_64/egg/prml/nn/math\n",
            "copying build/lib/prml/nn/math/negative.py -> build/bdist.linux-x86_64/egg/prml/nn/math\n",
            "copying build/lib/prml/nn/math/sum.py -> build/bdist.linux-x86_64/egg/prml/nn/math\n",
            "copying build/lib/prml/nn/math/add.py -> build/bdist.linux-x86_64/egg/prml/nn/math\n",
            "copying build/lib/prml/nn/math/exp.py -> build/bdist.linux-x86_64/egg/prml/nn/math\n",
            "copying build/lib/prml/nn/math/__init__.py -> build/bdist.linux-x86_64/egg/prml/nn/math\n",
            "copying build/lib/prml/nn/math/sqrt.py -> build/bdist.linux-x86_64/egg/prml/nn/math\n",
            "copying build/lib/prml/nn/math/multiply.py -> build/bdist.linux-x86_64/egg/prml/nn/math\n",
            "copying build/lib/prml/nn/math/divide.py -> build/bdist.linux-x86_64/egg/prml/nn/math\n",
            "copying build/lib/prml/nn/math/mean.py -> build/bdist.linux-x86_64/egg/prml/nn/math\n",
            "copying build/lib/prml/nn/math/product.py -> build/bdist.linux-x86_64/egg/prml/nn/math\n",
            "copying build/lib/prml/nn/math/matmul.py -> build/bdist.linux-x86_64/egg/prml/nn/math\n",
            "copying build/lib/prml/nn/math/subtract.py -> build/bdist.linux-x86_64/egg/prml/nn/math\n",
            "copying build/lib/prml/nn/math/power.py -> build/bdist.linux-x86_64/egg/prml/nn/math\n",
            "creating build/bdist.linux-x86_64/egg/prml/nn/nonlinear\n",
            "copying build/lib/prml/nn/nonlinear/log_softmax.py -> build/bdist.linux-x86_64/egg/prml/nn/nonlinear\n",
            "copying build/lib/prml/nn/nonlinear/__init__.py -> build/bdist.linux-x86_64/egg/prml/nn/nonlinear\n",
            "copying build/lib/prml/nn/nonlinear/softplus.py -> build/bdist.linux-x86_64/egg/prml/nn/nonlinear\n",
            "copying build/lib/prml/nn/nonlinear/tanh.py -> build/bdist.linux-x86_64/egg/prml/nn/nonlinear\n",
            "copying build/lib/prml/nn/nonlinear/sigmoid.py -> build/bdist.linux-x86_64/egg/prml/nn/nonlinear\n",
            "copying build/lib/prml/nn/nonlinear/relu.py -> build/bdist.linux-x86_64/egg/prml/nn/nonlinear\n",
            "copying build/lib/prml/nn/nonlinear/softmax.py -> build/bdist.linux-x86_64/egg/prml/nn/nonlinear\n",
            "copying build/lib/prml/nn/nonlinear/logit.py -> build/bdist.linux-x86_64/egg/prml/nn/nonlinear\n",
            "creating build/bdist.linux-x86_64/egg/prml/nn/normalization\n",
            "copying build/lib/prml/nn/normalization/batch_normalization.py -> build/bdist.linux-x86_64/egg/prml/nn/normalization\n",
            "copying build/lib/prml/nn/normalization/__init__.py -> build/bdist.linux-x86_64/egg/prml/nn/normalization\n",
            "creating build/bdist.linux-x86_64/egg/prml/nn/optimizer\n",
            "copying build/lib/prml/nn/optimizer/optimizer.py -> build/bdist.linux-x86_64/egg/prml/nn/optimizer\n",
            "copying build/lib/prml/nn/optimizer/ada_grad.py -> build/bdist.linux-x86_64/egg/prml/nn/optimizer\n",
            "copying build/lib/prml/nn/optimizer/rmsprop.py -> build/bdist.linux-x86_64/egg/prml/nn/optimizer\n",
            "copying build/lib/prml/nn/optimizer/gradient.py -> build/bdist.linux-x86_64/egg/prml/nn/optimizer\n",
            "copying build/lib/prml/nn/optimizer/momentum.py -> build/bdist.linux-x86_64/egg/prml/nn/optimizer\n",
            "copying build/lib/prml/nn/optimizer/ada_delta.py -> build/bdist.linux-x86_64/egg/prml/nn/optimizer\n",
            "copying build/lib/prml/nn/optimizer/adam.py -> build/bdist.linux-x86_64/egg/prml/nn/optimizer\n",
            "copying build/lib/prml/nn/optimizer/__init__.py -> build/bdist.linux-x86_64/egg/prml/nn/optimizer\n",
            "creating build/bdist.linux-x86_64/egg/prml/nn/random\n",
            "copying build/lib/prml/nn/random/__init__.py -> build/bdist.linux-x86_64/egg/prml/nn/random\n",
            "copying build/lib/prml/nn/random/dropout.py -> build/bdist.linux-x86_64/egg/prml/nn/random\n",
            "copying build/lib/prml/nn/random/normal.py -> build/bdist.linux-x86_64/egg/prml/nn/random\n",
            "copying build/lib/prml/nn/random/uniform.py -> build/bdist.linux-x86_64/egg/prml/nn/random\n",
            "copying build/lib/prml/nn/random/random.py -> build/bdist.linux-x86_64/egg/prml/nn/random\n",
            "creating build/bdist.linux-x86_64/egg/prml/preprocess\n",
            "copying build/lib/prml/preprocess/sigmoidal.py -> build/bdist.linux-x86_64/egg/prml/preprocess\n",
            "copying build/lib/prml/preprocess/polynomial.py -> build/bdist.linux-x86_64/egg/prml/preprocess\n",
            "copying build/lib/prml/preprocess/gaussian.py -> build/bdist.linux-x86_64/egg/prml/preprocess\n",
            "copying build/lib/prml/preprocess/__init__.py -> build/bdist.linux-x86_64/egg/prml/preprocess\n",
            "copying build/lib/prml/preprocess/label_transformer.py -> build/bdist.linux-x86_64/egg/prml/preprocess\n",
            "creating build/bdist.linux-x86_64/egg/prml/rv\n",
            "copying build/lib/prml/rv/rv.py -> build/bdist.linux-x86_64/egg/prml/rv\n",
            "copying build/lib/prml/rv/__init__.py -> build/bdist.linux-x86_64/egg/prml/rv\n",
            "copying build/lib/prml/rv/bernoulli_mixture.py -> build/bdist.linux-x86_64/egg/prml/rv\n",
            "copying build/lib/prml/rv/dirichlet.py -> build/bdist.linux-x86_64/egg/prml/rv\n",
            "copying build/lib/prml/rv/beta.py -> build/bdist.linux-x86_64/egg/prml/rv\n",
            "copying build/lib/prml/rv/gaussian.py -> build/bdist.linux-x86_64/egg/prml/rv\n",
            "copying build/lib/prml/rv/gamma.py -> build/bdist.linux-x86_64/egg/prml/rv\n",
            "copying build/lib/prml/rv/multivariate_gaussian_mixture.py -> build/bdist.linux-x86_64/egg/prml/rv\n",
            "copying build/lib/prml/rv/multivariate_gaussian.py -> build/bdist.linux-x86_64/egg/prml/rv\n",
            "copying build/lib/prml/rv/categorical.py -> build/bdist.linux-x86_64/egg/prml/rv\n",
            "copying build/lib/prml/rv/bernoulli.py -> build/bdist.linux-x86_64/egg/prml/rv\n",
            "copying build/lib/prml/rv/students_t.py -> build/bdist.linux-x86_64/egg/prml/rv\n",
            "copying build/lib/prml/rv/uniform.py -> build/bdist.linux-x86_64/egg/prml/rv\n",
            "copying build/lib/prml/rv/variational_gaussian_mixture.py -> build/bdist.linux-x86_64/egg/prml/rv\n",
            "creating build/bdist.linux-x86_64/egg/prml/sampling\n",
            "copying build/lib/prml/sampling/sir.py -> build/bdist.linux-x86_64/egg/prml/sampling\n",
            "copying build/lib/prml/sampling/rejection_sampling.py -> build/bdist.linux-x86_64/egg/prml/sampling\n",
            "copying build/lib/prml/sampling/__init__.py -> build/bdist.linux-x86_64/egg/prml/sampling\n",
            "copying build/lib/prml/sampling/metropolis.py -> build/bdist.linux-x86_64/egg/prml/sampling\n",
            "copying build/lib/prml/sampling/metropolis_hastings.py -> build/bdist.linux-x86_64/egg/prml/sampling\n",
            "byte-compiling build/bdist.linux-x86_64/egg/prml/__init__.py to __init__.cpython-36.pyc\n",
            "byte-compiling build/bdist.linux-x86_64/egg/prml/bayesnet/probability_function.py to probability_function.cpython-36.pyc\n",
            "byte-compiling build/bdist.linux-x86_64/egg/prml/bayesnet/discrete.py to discrete.cpython-36.pyc\n",
            "byte-compiling build/bdist.linux-x86_64/egg/prml/bayesnet/__init__.py to __init__.cpython-36.pyc\n",
            "byte-compiling build/bdist.linux-x86_64/egg/prml/bayesnet/random_variable.py to random_variable.cpython-36.pyc\n",
            "byte-compiling build/bdist.linux-x86_64/egg/prml/clustering/k_means.py to k_means.cpython-36.pyc\n",
            "byte-compiling build/bdist.linux-x86_64/egg/prml/clustering/__init__.py to __init__.cpython-36.pyc\n",
            "byte-compiling build/bdist.linux-x86_64/egg/prml/dimreduction/bayesian_pca.py to bayesian_pca.cpython-36.pyc\n",
            "byte-compiling build/bdist.linux-x86_64/egg/prml/dimreduction/autoencoder.py to autoencoder.cpython-36.pyc\n",
            "byte-compiling build/bdist.linux-x86_64/egg/prml/dimreduction/__init__.py to __init__.cpython-36.pyc\n",
            "byte-compiling build/bdist.linux-x86_64/egg/prml/dimreduction/pca.py to pca.cpython-36.pyc\n",
            "byte-compiling build/bdist.linux-x86_64/egg/prml/kernel/gaussian_process_regressor.py to gaussian_process_regressor.cpython-36.pyc\n",
            "byte-compiling build/bdist.linux-x86_64/egg/prml/kernel/rbf.py to rbf.cpython-36.pyc\n",
            "byte-compiling build/bdist.linux-x86_64/egg/prml/kernel/polynomial.py to polynomial.cpython-36.pyc\n",
            "byte-compiling build/bdist.linux-x86_64/egg/prml/kernel/relevance_vector_regressor.py to relevance_vector_regressor.cpython-36.pyc\n",
            "byte-compiling build/bdist.linux-x86_64/egg/prml/kernel/relevance_vector_classifier.py to relevance_vector_classifier.cpython-36.pyc\n",
            "byte-compiling build/bdist.linux-x86_64/egg/prml/kernel/support_vector_classifier.py to support_vector_classifier.cpython-36.pyc\n",
            "byte-compiling build/bdist.linux-x86_64/egg/prml/kernel/__init__.py to __init__.cpython-36.pyc\n",
            "byte-compiling build/bdist.linux-x86_64/egg/prml/kernel/gaussian_process_classifier.py to gaussian_process_classifier.cpython-36.pyc\n",
            "byte-compiling build/bdist.linux-x86_64/egg/prml/kernel/kernel.py to kernel.cpython-36.pyc\n",
            "byte-compiling build/bdist.linux-x86_64/egg/prml/linear/least_squares_classifier.py to least_squares_classifier.cpython-36.pyc\n",
            "byte-compiling build/bdist.linux-x86_64/egg/prml/linear/__init__.py to __init__.cpython-36.pyc\n",
            "byte-compiling build/bdist.linux-x86_64/egg/prml/linear/emprical_bayes_regression.py to emprical_bayes_regression.cpython-36.pyc\n",
            "byte-compiling build/bdist.linux-x86_64/egg/prml/linear/variational_logistic_regression.py to variational_logistic_regression.cpython-36.pyc\n",
            "byte-compiling build/bdist.linux-x86_64/egg/prml/linear/bayesian_logistic_regression.py to bayesian_logistic_regression.cpython-36.pyc\n",
            "byte-compiling build/bdist.linux-x86_64/egg/prml/linear/fishers_linear_discriminant.py to fishers_linear_discriminant.cpython-36.pyc\n",
            "byte-compiling build/bdist.linux-x86_64/egg/prml/linear/perceptron.py to perceptron.cpython-36.pyc\n",
            "byte-compiling build/bdist.linux-x86_64/egg/prml/linear/softmax_regression.py to softmax_regression.cpython-36.pyc\n",
            "byte-compiling build/bdist.linux-x86_64/egg/prml/linear/variational_linear_regression.py to variational_linear_regression.cpython-36.pyc\n",
            "byte-compiling build/bdist.linux-x86_64/egg/prml/linear/linear_regression.py to linear_regression.cpython-36.pyc\n",
            "byte-compiling build/bdist.linux-x86_64/egg/prml/linear/bayesian_regression.py to bayesian_regression.cpython-36.pyc\n",
            "byte-compiling build/bdist.linux-x86_64/egg/prml/linear/classifier.py to classifier.cpython-36.pyc\n",
            "byte-compiling build/bdist.linux-x86_64/egg/prml/linear/regression.py to regression.cpython-36.pyc\n",
            "byte-compiling build/bdist.linux-x86_64/egg/prml/linear/ridge_regression.py to ridge_regression.cpython-36.pyc\n",
            "byte-compiling build/bdist.linux-x86_64/egg/prml/linear/logistic_regression.py to logistic_regression.cpython-36.pyc\n",
            "byte-compiling build/bdist.linux-x86_64/egg/prml/markov/__init__.py to __init__.cpython-36.pyc\n",
            "byte-compiling build/bdist.linux-x86_64/egg/prml/markov/hmm.py to hmm.cpython-36.pyc\n",
            "byte-compiling build/bdist.linux-x86_64/egg/prml/markov/state_space_model.py to state_space_model.cpython-36.pyc\n",
            "byte-compiling build/bdist.linux-x86_64/egg/prml/markov/categorical_hmm.py to categorical_hmm.cpython-36.pyc\n",
            "byte-compiling build/bdist.linux-x86_64/egg/prml/markov/kalman.py to kalman.cpython-36.pyc\n",
            "byte-compiling build/bdist.linux-x86_64/egg/prml/markov/gaussian_hmm.py to gaussian_hmm.cpython-36.pyc\n",
            "byte-compiling build/bdist.linux-x86_64/egg/prml/markov/particle.py to particle.cpython-36.pyc\n",
            "byte-compiling build/bdist.linux-x86_64/egg/prml/nn/__init__.py to __init__.cpython-36.pyc\n",
            "byte-compiling build/bdist.linux-x86_64/egg/prml/nn/queue.py to queue.cpython-36.pyc\n",
            "byte-compiling build/bdist.linux-x86_64/egg/prml/nn/network.py to network.cpython-36.pyc\n",
            "byte-compiling build/bdist.linux-x86_64/egg/prml/nn/function.py to function.cpython-36.pyc\n",
            "byte-compiling build/bdist.linux-x86_64/egg/prml/nn/config.py to config.cpython-36.pyc\n",
            "byte-compiling build/bdist.linux-x86_64/egg/prml/nn/array/array.py to array.cpython-36.pyc\n",
            "byte-compiling build/bdist.linux-x86_64/egg/prml/nn/array/zeros.py to zeros.cpython-36.pyc\n",
            "byte-compiling build/bdist.linux-x86_64/egg/prml/nn/array/__init__.py to __init__.cpython-36.pyc\n",
            "byte-compiling build/bdist.linux-x86_64/egg/prml/nn/array/reshape.py to reshape.cpython-36.pyc\n",
            "byte-compiling build/bdist.linux-x86_64/egg/prml/nn/array/ones.py to ones.cpython-36.pyc\n",
            "byte-compiling build/bdist.linux-x86_64/egg/prml/nn/array/broadcast.py to broadcast.cpython-36.pyc\n",
            "byte-compiling build/bdist.linux-x86_64/egg/prml/nn/distribution/categorical.py to categorical.cpython-36.pyc\n",
            "byte-compiling build/bdist.linux-x86_64/egg/prml/nn/distribution/gaussian.py to gaussian.cpython-36.pyc\n",
            "byte-compiling build/bdist.linux-x86_64/egg/prml/nn/distribution/distribution.py to distribution.cpython-36.pyc\n",
            "byte-compiling build/bdist.linux-x86_64/egg/prml/nn/distribution/bernoulli.py to bernoulli.cpython-36.pyc\n",
            "byte-compiling build/bdist.linux-x86_64/egg/prml/nn/distribution/__init__.py to __init__.cpython-36.pyc\n",
            "byte-compiling build/bdist.linux-x86_64/egg/prml/nn/image/deconvolve2d.py to deconvolve2d.cpython-36.pyc\n",
            "byte-compiling build/bdist.linux-x86_64/egg/prml/nn/image/util.py to util.cpython-36.pyc\n",
            "byte-compiling build/bdist.linux-x86_64/egg/prml/nn/image/__init__.py to __init__.cpython-36.pyc\n",
            "byte-compiling build/bdist.linux-x86_64/egg/prml/nn/image/max_pooling2d.py to max_pooling2d.cpython-36.pyc\n",
            "byte-compiling build/bdist.linux-x86_64/egg/prml/nn/image/convolve2d.py to convolve2d.cpython-36.pyc\n",
            "byte-compiling build/bdist.linux-x86_64/egg/prml/nn/io/__init__.py to __init__.cpython-36.pyc\n",
            "byte-compiling build/bdist.linux-x86_64/egg/prml/nn/io/io.py to io.cpython-36.pyc\n",
            "byte-compiling build/bdist.linux-x86_64/egg/prml/nn/loss/softmax_cross_entropy.py to softmax_cross_entropy.cpython-36.pyc\n",
            "byte-compiling build/bdist.linux-x86_64/egg/prml/nn/loss/kl.py to kl.cpython-36.pyc\n",
            "byte-compiling build/bdist.linux-x86_64/egg/prml/nn/loss/__init__.py to __init__.cpython-36.pyc\n",
            "byte-compiling build/bdist.linux-x86_64/egg/prml/nn/loss/sigmoid_cross_entropy.py to sigmoid_cross_entropy.cpython-36.pyc\n",
            "byte-compiling build/bdist.linux-x86_64/egg/prml/nn/math/log.py to log.cpython-36.pyc\n",
            "byte-compiling build/bdist.linux-x86_64/egg/prml/nn/math/square.py to square.cpython-36.pyc\n",
            "byte-compiling build/bdist.linux-x86_64/egg/prml/nn/math/negative.py to negative.cpython-36.pyc\n",
            "byte-compiling build/bdist.linux-x86_64/egg/prml/nn/math/sum.py to sum.cpython-36.pyc\n",
            "byte-compiling build/bdist.linux-x86_64/egg/prml/nn/math/add.py to add.cpython-36.pyc\n",
            "byte-compiling build/bdist.linux-x86_64/egg/prml/nn/math/exp.py to exp.cpython-36.pyc\n",
            "byte-compiling build/bdist.linux-x86_64/egg/prml/nn/math/__init__.py to __init__.cpython-36.pyc\n",
            "byte-compiling build/bdist.linux-x86_64/egg/prml/nn/math/sqrt.py to sqrt.cpython-36.pyc\n",
            "byte-compiling build/bdist.linux-x86_64/egg/prml/nn/math/multiply.py to multiply.cpython-36.pyc\n",
            "byte-compiling build/bdist.linux-x86_64/egg/prml/nn/math/divide.py to divide.cpython-36.pyc\n",
            "byte-compiling build/bdist.linux-x86_64/egg/prml/nn/math/mean.py to mean.cpython-36.pyc\n",
            "byte-compiling build/bdist.linux-x86_64/egg/prml/nn/math/product.py to product.cpython-36.pyc\n",
            "byte-compiling build/bdist.linux-x86_64/egg/prml/nn/math/matmul.py to matmul.cpython-36.pyc\n",
            "byte-compiling build/bdist.linux-x86_64/egg/prml/nn/math/subtract.py to subtract.cpython-36.pyc\n",
            "byte-compiling build/bdist.linux-x86_64/egg/prml/nn/math/power.py to power.cpython-36.pyc\n",
            "byte-compiling build/bdist.linux-x86_64/egg/prml/nn/nonlinear/log_softmax.py to log_softmax.cpython-36.pyc\n",
            "byte-compiling build/bdist.linux-x86_64/egg/prml/nn/nonlinear/__init__.py to __init__.cpython-36.pyc\n",
            "byte-compiling build/bdist.linux-x86_64/egg/prml/nn/nonlinear/softplus.py to softplus.cpython-36.pyc\n",
            "byte-compiling build/bdist.linux-x86_64/egg/prml/nn/nonlinear/tanh.py to tanh.cpython-36.pyc\n",
            "byte-compiling build/bdist.linux-x86_64/egg/prml/nn/nonlinear/sigmoid.py to sigmoid.cpython-36.pyc\n",
            "byte-compiling build/bdist.linux-x86_64/egg/prml/nn/nonlinear/relu.py to relu.cpython-36.pyc\n",
            "byte-compiling build/bdist.linux-x86_64/egg/prml/nn/nonlinear/softmax.py to softmax.cpython-36.pyc\n",
            "byte-compiling build/bdist.linux-x86_64/egg/prml/nn/nonlinear/logit.py to logit.cpython-36.pyc\n",
            "byte-compiling build/bdist.linux-x86_64/egg/prml/nn/normalization/batch_normalization.py to batch_normalization.cpython-36.pyc\n",
            "byte-compiling build/bdist.linux-x86_64/egg/prml/nn/normalization/__init__.py to __init__.cpython-36.pyc\n",
            "byte-compiling build/bdist.linux-x86_64/egg/prml/nn/optimizer/optimizer.py to optimizer.cpython-36.pyc\n",
            "byte-compiling build/bdist.linux-x86_64/egg/prml/nn/optimizer/ada_grad.py to ada_grad.cpython-36.pyc\n",
            "byte-compiling build/bdist.linux-x86_64/egg/prml/nn/optimizer/rmsprop.py to rmsprop.cpython-36.pyc\n",
            "byte-compiling build/bdist.linux-x86_64/egg/prml/nn/optimizer/gradient.py to gradient.cpython-36.pyc\n",
            "byte-compiling build/bdist.linux-x86_64/egg/prml/nn/optimizer/momentum.py to momentum.cpython-36.pyc\n",
            "byte-compiling build/bdist.linux-x86_64/egg/prml/nn/optimizer/ada_delta.py to ada_delta.cpython-36.pyc\n",
            "byte-compiling build/bdist.linux-x86_64/egg/prml/nn/optimizer/adam.py to adam.cpython-36.pyc\n",
            "byte-compiling build/bdist.linux-x86_64/egg/prml/nn/optimizer/__init__.py to __init__.cpython-36.pyc\n",
            "byte-compiling build/bdist.linux-x86_64/egg/prml/nn/random/__init__.py to __init__.cpython-36.pyc\n",
            "byte-compiling build/bdist.linux-x86_64/egg/prml/nn/random/dropout.py to dropout.cpython-36.pyc\n",
            "byte-compiling build/bdist.linux-x86_64/egg/prml/nn/random/normal.py to normal.cpython-36.pyc\n",
            "byte-compiling build/bdist.linux-x86_64/egg/prml/nn/random/uniform.py to uniform.cpython-36.pyc\n",
            "byte-compiling build/bdist.linux-x86_64/egg/prml/nn/random/random.py to random.cpython-36.pyc\n",
            "byte-compiling build/bdist.linux-x86_64/egg/prml/preprocess/sigmoidal.py to sigmoidal.cpython-36.pyc\n",
            "byte-compiling build/bdist.linux-x86_64/egg/prml/preprocess/polynomial.py to polynomial.cpython-36.pyc\n",
            "byte-compiling build/bdist.linux-x86_64/egg/prml/preprocess/gaussian.py to gaussian.cpython-36.pyc\n",
            "byte-compiling build/bdist.linux-x86_64/egg/prml/preprocess/__init__.py to __init__.cpython-36.pyc\n",
            "byte-compiling build/bdist.linux-x86_64/egg/prml/preprocess/label_transformer.py to label_transformer.cpython-36.pyc\n",
            "byte-compiling build/bdist.linux-x86_64/egg/prml/rv/rv.py to rv.cpython-36.pyc\n",
            "byte-compiling build/bdist.linux-x86_64/egg/prml/rv/__init__.py to __init__.cpython-36.pyc\n",
            "byte-compiling build/bdist.linux-x86_64/egg/prml/rv/bernoulli_mixture.py to bernoulli_mixture.cpython-36.pyc\n",
            "byte-compiling build/bdist.linux-x86_64/egg/prml/rv/dirichlet.py to dirichlet.cpython-36.pyc\n",
            "byte-compiling build/bdist.linux-x86_64/egg/prml/rv/beta.py to beta.cpython-36.pyc\n",
            "byte-compiling build/bdist.linux-x86_64/egg/prml/rv/gaussian.py to gaussian.cpython-36.pyc\n",
            "byte-compiling build/bdist.linux-x86_64/egg/prml/rv/gamma.py to gamma.cpython-36.pyc\n",
            "byte-compiling build/bdist.linux-x86_64/egg/prml/rv/multivariate_gaussian_mixture.py to multivariate_gaussian_mixture.cpython-36.pyc\n",
            "byte-compiling build/bdist.linux-x86_64/egg/prml/rv/multivariate_gaussian.py to multivariate_gaussian.cpython-36.pyc\n",
            "byte-compiling build/bdist.linux-x86_64/egg/prml/rv/categorical.py to categorical.cpython-36.pyc\n",
            "byte-compiling build/bdist.linux-x86_64/egg/prml/rv/bernoulli.py to bernoulli.cpython-36.pyc\n",
            "byte-compiling build/bdist.linux-x86_64/egg/prml/rv/students_t.py to students_t.cpython-36.pyc\n",
            "byte-compiling build/bdist.linux-x86_64/egg/prml/rv/uniform.py to uniform.cpython-36.pyc\n",
            "byte-compiling build/bdist.linux-x86_64/egg/prml/rv/variational_gaussian_mixture.py to variational_gaussian_mixture.cpython-36.pyc\n",
            "byte-compiling build/bdist.linux-x86_64/egg/prml/sampling/sir.py to sir.cpython-36.pyc\n",
            "byte-compiling build/bdist.linux-x86_64/egg/prml/sampling/rejection_sampling.py to rejection_sampling.cpython-36.pyc\n",
            "byte-compiling build/bdist.linux-x86_64/egg/prml/sampling/__init__.py to __init__.cpython-36.pyc\n",
            "byte-compiling build/bdist.linux-x86_64/egg/prml/sampling/metropolis.py to metropolis.cpython-36.pyc\n",
            "byte-compiling build/bdist.linux-x86_64/egg/prml/sampling/metropolis_hastings.py to metropolis_hastings.cpython-36.pyc\n",
            "creating build/bdist.linux-x86_64/egg/EGG-INFO\n",
            "copying prml.egg-info/PKG-INFO -> build/bdist.linux-x86_64/egg/EGG-INFO\n",
            "copying prml.egg-info/SOURCES.txt -> build/bdist.linux-x86_64/egg/EGG-INFO\n",
            "copying prml.egg-info/dependency_links.txt -> build/bdist.linux-x86_64/egg/EGG-INFO\n",
            "copying prml.egg-info/requires.txt -> build/bdist.linux-x86_64/egg/EGG-INFO\n",
            "copying prml.egg-info/top_level.txt -> build/bdist.linux-x86_64/egg/EGG-INFO\n",
            "zip_safe flag not set; analyzing archive contents...\n",
            "creating 'dist/prml-0.0.1-py3.6.egg' and adding 'build/bdist.linux-x86_64/egg' to it\n",
            "removing 'build/bdist.linux-x86_64/egg' (and everything under it)\n",
            "Processing prml-0.0.1-py3.6.egg\n",
            "Copying prml-0.0.1-py3.6.egg to /usr/local/lib/python3.6/dist-packages\n",
            "Adding prml 0.0.1 to easy-install.pth file\n",
            "\n",
            "Installed /usr/local/lib/python3.6/dist-packages/prml-0.0.1-py3.6.egg\n",
            "Processing dependencies for prml==0.0.1\n",
            "Searching for scipy==1.4.1\n",
            "Best match: scipy 1.4.1\n",
            "Adding scipy 1.4.1 to easy-install.pth file\n",
            "\n",
            "Using /usr/local/lib/python3.6/dist-packages\n",
            "Searching for numpy==1.19.5\n",
            "Best match: numpy 1.19.5\n",
            "Adding numpy 1.19.5 to easy-install.pth file\n",
            "Installing f2py script to /usr/local/bin\n",
            "Installing f2py3 script to /usr/local/bin\n",
            "Installing f2py3.6 script to /usr/local/bin\n",
            "\n",
            "Using /usr/local/lib/python3.6/dist-packages\n",
            "Finished processing dependencies for prml==0.0.1\n"
          ],
          "name": "stdout"
        }
      ]
    },
    {
      "cell_type": "code",
      "metadata": {
        "id": "iv9ADzLqiNsU",
        "colab": {
          "base_uri": "https://localhost:8080/"
        },
        "outputId": "e7498e2d-62d0-4223-8491-17509daea6a1"
      },
      "source": [
        "# 3. Add the project directory to the path\n",
        "%cd /content/drive/My Drive/Colab Notebooks/ml-notebooks/PRML\n",
        "import os, sys\n",
        "sys.path.append(os.getcwd())"
      ],
      "execution_count": 9,
      "outputs": [
        {
          "output_type": "stream",
          "text": [
            "/content/drive/My Drive/Colab Notebooks/ml-notebooks/PRML\n"
          ],
          "name": "stdout"
        }
      ]
    },
    {
      "cell_type": "code",
      "metadata": {
        "id": "qwxjFZSR_vuX"
      },
      "source": [
        "# Import seaborn\n",
        "import seaborn as sns\n",
        "\n",
        "# Apply the default theme\n",
        "sns.set_theme()\n"
      ],
      "execution_count": 10,
      "outputs": []
    },
    {
      "cell_type": "code",
      "metadata": {
        "id": "pxBLdL3r6XmZ"
      },
      "source": [
        "import numpy as np\n",
        "import matplotlib.pyplot as plt\n",
        "%matplotlib inline\n",
        "\n",
        "from prml.preprocess import PolynomialFeature\n",
        "from prml.linear import (\n",
        "    LinearRegression,\n",
        "    RidgeRegression,\n",
        "    BayesianRegression\n",
        ")\n",
        "\n",
        "np.random.seed(1234)"
      ],
      "execution_count": 11,
      "outputs": []
    },
    {
      "cell_type": "markdown",
      "metadata": {
        "id": "TWjYKLNc6Xmd"
      },
      "source": [
        "## 1.1. Example: Polynomial Curve Fitting"
      ]
    },
    {
      "cell_type": "markdown",
      "metadata": {
        "id": "6XPE-VC_-OYK"
      },
      "source": [
        "The cell below defines $p_{data}(y|x)$ and generates the $\\hat p_{data}(y|x)$"
      ]
    },
    {
      "cell_type": "code",
      "metadata": {
        "id": "Tj4RTV3X6Xmd",
        "colab": {
          "base_uri": "https://localhost:8080/",
          "height": 285
        },
        "outputId": "e0cd5f17-94ad-4f59-a0f0-3028dde5464c"
      },
      "source": [
        "def create_toy_data(func, sample_size, std):\n",
        "    x = np.linspace(0, 1, sample_size) # p(x)\n",
        "    y = func(x) + np.random.normal(scale=std, size=x.shape) \n",
        "    return x, y\n",
        "\n",
        "def func(x):\n",
        "    return np.sin(2 * np.pi * x)\n",
        "\n",
        "x_train, y_train = create_toy_data(func, 10, 0.25)\n",
        "x_test = np.linspace(0, 1, 100)\n",
        "y_test = func(x_test)\n",
        "\n",
        "plt.scatter(x_train, y_train, facecolor=\"none\", edgecolor=\"b\", s=50, label=\"training data\")\n",
        "plt.plot(x_test, y_test, c=\"g\", label=\"$\\sin(2\\pi x)$\")\n",
        "plt.legend()\n",
        "plt.xlabel('$x$')\n",
        "plt.ylabel('$y$')\n",
        "plt.show()"
      ],
      "execution_count": 12,
      "outputs": [
        {
          "output_type": "display_data",
          "data": {
            "image/png": "[encoded data removed]",
            "text/plain": [
              "<Figure size 432x288 with 1 Axes>"
            ]
          },
          "metadata": {
            "tags": [],
            "needs_background": "light"
          }
        }
      ]
    },
    {
      "cell_type": "code",
      "metadata": {
        "scrolled": true,
        "id": "diJlsNGo6Xmg",
        "colab": {
          "base_uri": "https://localhost:8080/",
          "height": 841
        },
        "outputId": "e2072729-3b2b-43c1-8727-dded35b1baf9"
      },
      "source": [
        "plt.subplots(figsize=(20, 10))\n",
        "for i, degree in enumerate([1, 3, 6, 9]):\n",
        "    plt.subplot(2, 2, i + 1)\n",
        "    feature = PolynomialFeature(degree)\n",
        "    X_train = feature.transform(x_train)\n",
        "    X_test = feature.transform(x_test)\n",
        "\n",
        "    model = LinearRegression()\n",
        "    model.fit(X_train, y_train)\n",
        "\n",
        "    print(\"\\n Parameter Table \\n M = \", degree)\n",
        "    print(\"w = \",model.w)\n",
        "    \n",
        "    \n",
        "    y = model.predict(X_test)\n",
        "\n",
        "    plt.scatter(x_train, y_train, facecolor=\"none\", edgecolor=\"b\", s=50, label=\"training data\")\n",
        "    plt.plot(x_test, y_test, c=\"g\", label=\"$\\sin(2\\pi x)$\")\n",
        "    plt.plot(x_test, y, c=\"r\", label=\"hypothesis\")\n",
        "    plt.ylim(-1.5, 1.5)\n",
        "    plt.annotate(\"M={}\".format(degree), xy=(-0.15, 1))\n",
        "    plt.xlabel('$x$')\n",
        "    plt.ylabel('$y$') \n",
        "plt.legend(bbox_to_anchor=(1.05, 0.64), loc=2, borderaxespad=0.)\n",
        "plt.show()"
      ],
      "execution_count": 16,
      "outputs": [
        {
          "output_type": "stream",
          "text": [
            "\n",
            " Parameter Table \n",
            " M =  1\n",
            "w =  [ 0.78301942 -1.63788059]\n",
            "\n",
            " Parameter Table \n",
            " M =  3\n",
            "w =  [ 1.13336032e-02  9.29216157e+00 -2.67894422e+01  1.70372865e+01]\n",
            "\n",
            " Parameter Table \n",
            " M =  6\n",
            "w =  [ 8.70379766e-02 -2.36304892e+00  9.45228619e+01 -4.28174943e+02\n",
            "  7.36797688e+02 -5.63095549e+02  1.61694460e+02]\n",
            "\n",
            " Parameter Table \n",
            " M =  9\n",
            "w =  [ 1.17858791e-01 -3.22314291e+01  5.52576193e+02 -2.72857332e+03\n",
            "  4.76278430e+03  2.03128886e+03 -1.93595365e+04  2.83824707e+04\n",
            " -1.78561842e+04  4.24672692e+03]\n"
          ],
          "name": "stdout"
        },
        {
          "output_type": "display_data",
          "data": {
            "image/png": "[encoded data removed]",
            "text/plain": [
              "<Figure size 1440x720 with 4 Axes>"
            ]
          },
          "metadata": {
            "tags": [],
            "needs_background": "light"
          }
        }
      ]
    },
    {
      "cell_type": "code",
      "metadata": {
        "id": "6Z2UhGfiYS8M",
        "colab": {
          "base_uri": "https://localhost:8080/"
        },
        "outputId": "39ef2b83-61ce-4b2e-eff5-871f65637e88"
      },
      "source": [
        "#Squared Norm\r\n",
        "#Squareroot of sum of weights squared that is sqrt(w1^2+w2^2+..+Wn^2)\r\n",
        "\r\n",
        "for i, degree in enumerate([1, 3, 6, 9]):\r\n",
        "    feature = PolynomialFeature(degree)\r\n",
        "    X_train = feature.transform(x_train)\r\n",
        "    X_test = feature.transform(x_test)\r\n",
        "\r\n",
        "    model = LinearRegression()\r\n",
        "    model.fit(X_train, y_train)\r\n",
        "\r\n",
        "    print(\"\\n Parameter Table \\n M = \", degree)\r\n",
        "    w = model.w\r\n",
        "    print(\"w = \",w)\r\n",
        "    print(\"sqrt(w^2) = \",np.sqrt(sum(w**2)))\r\n"
      ],
      "execution_count": 32,
      "outputs": [
        {
          "output_type": "stream",
          "text": [
            "\n",
            " Parameter Table \n",
            " M =  1\n",
            "w =  [ 0.78301942 -1.63788059]\n",
            "sqrt(w2) =  1.8154261903411646\n",
            "\n",
            " Parameter Table \n",
            " M =  3\n",
            "w =  [ 1.13336032e-02  9.29216157e+00 -2.67894422e+01  1.70372865e+01]\n",
            "sqrt(w2) =  33.08002027112505\n",
            "\n",
            " Parameter Table \n",
            " M =  6\n",
            "w =  [ 8.70379766e-02 -2.36304892e+00  9.45228619e+01 -4.28174943e+02\n",
            "  7.36797688e+02 -5.63095549e+02  1.61694460e+02]\n",
            "sqrt(w2) =  1038.4442562233155\n",
            "\n",
            " Parameter Table \n",
            " M =  9\n",
            "w =  [ 1.17858791e-01 -3.22314291e+01  5.52576193e+02 -2.72857332e+03\n",
            "  4.76278430e+03  2.03128886e+03 -1.93595365e+04  2.83824707e+04\n",
            " -1.78561842e+04  4.24672692e+03]\n",
            "sqrt(w2) =  39392.84253289236\n"
          ],
          "name": "stdout"
        }
      ]
    },
    {
      "cell_type": "markdown",
      "metadata": {
        "id": "HOaVooCsK2Un"
      },
      "source": [
        "**What can you observe with respect to their squared norm ∣w∣ ?**\r\n",
        "\r\n",
        "Squareroot of sum of weights squared that is sqrt(w1^2+w2^2+..+Wn^2).\r\n",
        "\r\n",
        "The squared norm seems to be increasing with increase in model complexity, M. "
      ]
    },
    {
      "cell_type": "markdown",
      "metadata": {
        "id": "7CEcDxZUhpXq"
      },
      "source": [
        "**Loss Function**\r\n",
        "\r\n",
        "***Why the loss function is called Root Mean Squared Error (RMSE) and what the square root offers, if anything, to finding a better solution?***\r\n",
        "\r\n",
        "Root Mean Square Error (RMSE) is a frequently used measure of the differences between values predicted by a model and the values observed. In other words, it tells you how concentrated the data is around the line of best fit.\r\n",
        "\r\n",
        "The square in RMSE is used because it always gives a positive value for error, so avoiding errors cancelling each other out.\r\n",
        "\r\n",
        "The square root is used to remove the effects of the squaring.\r\n"
      ]
    },
    {
      "cell_type": "code",
      "metadata": {
        "id": "nfpg434z6Xmj"
      },
      "source": [
        "def rmse(a, b):\n",
        "    return np.sqrt(np.mean(np.square(a - b)))\n",
        "\n",
        "training_errors = []\n",
        "test_errors = []\n",
        "\n",
        "for i in range(10):\n",
        "    feature = PolynomialFeature(i)\n",
        "    X_train = feature.transform(x_train)\n",
        "    X_test = feature.transform(x_test)\n",
        "\n",
        "    model = LinearRegression()\n",
        "    model.fit(X_train, y_train)\n",
        "    \n",
        "    y = model.predict(X_test)\n",
        "    training_errors.append(rmse(model.predict(X_train), y_train))\n",
        "    test_errors.append(rmse(model.predict(X_test), y_test + np.random.normal(scale=0.25, size=len(y_test))))\n",
        "\n",
        "plt.plot(training_errors, 'o-', mfc=\"none\", mec=\"b\", ms=10, c=\"b\", label=\"Training\")\n",
        "plt.plot(test_errors, 'o-', mfc=\"none\", mec=\"r\", ms=10, c=\"r\", label=\"Test\")\n",
        "plt.legend()\n",
        "plt.xlabel(\"model capacity (degree)\")\n",
        "plt.ylabel(\"RMSE\")\n",
        "plt.show()"
      ],
      "execution_count": null,
      "outputs": []
    },
    {
      "cell_type": "markdown",
      "metadata": {
        "id": "uMpEilvE-0lG"
      },
      "source": [
        "**Model Complexity**\r\n",
        "\r\n",
        "***The behavior of the test error for M=9 vs M=3.***\r\n",
        "\r\n",
        "Test error is a measure of how well we are doing in predicting the values of target variable for new observation. \r\n",
        "Small values of Model capacity, M gives relatievely large error value (high RMSE) - Underfitting scenario.\r\n",
        "\r\n",
        "M=3  gives the relatievely smallest error difference between training and test and the error is comparitievely smaller than M = 0 to M=2 and stays almost same till M=6 not improving further, making M = 3, the best model.\r\n",
        "\r\n",
        "M=9 gives the least training error but difference between training and test error is higher than M=3, making it an overfit model."
      ]
    },
    {
      "cell_type": "markdown",
      "metadata": {
        "id": "PTOLlihm6Xml"
      },
      "source": [
        "#### Regularization"
      ]
    },
    {
      "cell_type": "code",
      "metadata": {
        "id": "18aoGaUg6Xml"
      },
      "source": [
        "feature = PolynomialFeature(9)\n",
        "X_train = feature.transform(x_train)\n",
        "X_test = feature.transform(x_test)\n",
        "\n",
        "model = RidgeRegression(alpha=1e-3)\n",
        "model.fit(X_train, y_train)\n",
        "\n",
        "\n",
        "y = model.predict(X_test)\n",
        "\n",
        "#y = model.predict(X_test)\n",
        "plt.scatter(x_train, y_train, facecolor=\"none\", edgecolor=\"b\", s=50, label=\"training data\")\n",
        "plt.plot(x_test, y_test, c=\"g\", label=\"$\\sin(2\\pi x)$\")\n",
        "plt.plot(x_test, y, c=\"r\", label=\"hypothesis\")\n",
        "plt.ylim(-1.5, 1.5)\n",
        "plt.legend()\n",
        "plt.annotate(\"M=9\", xy=(-0.15, 1))\n",
        "plt.xlabel('$x$')\n",
        "plt.ylabel('$y$') \n",
        "plt.show()"
      ],
      "execution_count": null,
      "outputs": []
    },
    {
      "cell_type": "code",
      "metadata": {
        "id": "VK2Yeiw4zJKQ"
      },
      "source": [
        "def rmse(a, b):\r\n",
        "    return np.sqrt(np.mean(np.square(a - b)))\r\n",
        "\r\n",
        "training_errors = []\r\n",
        "test_errors = []\r\n",
        "\r\n",
        "for i in range(10):\r\n",
        "    feature = PolynomialFeature(i)\r\n",
        "    X_train = feature.transform(x_train)\r\n",
        "    X_test = feature.transform(x_test)\r\n",
        "\r\n",
        "    model = RidgeRegression(alpha=1e-3)\r\n",
        "    model.fit(X_train, y_train)\r\n",
        "    \r\n",
        "    y = model.predict(X_test)\r\n",
        "    training_errors.append(rmse(model.predict(X_train), y_train))\r\n",
        "    test_errors.append(rmse(model.predict(X_test), y_test + np.random.normal(scale=0.25, size=len(y_test))))\r\n",
        "\r\n",
        "plt.plot(training_errors, 'o-', mfc=\"none\", mec=\"b\", ms=10, c=\"b\", label=\"Training\")\r\n",
        "plt.plot(test_errors, 'o-', mfc=\"none\", mec=\"r\", ms=10, c=\"r\", label=\"Test\")\r\n",
        "plt.legend()\r\n",
        "plt.xlabel(\"model capacity (degree)\")\r\n",
        "plt.ylabel(\"RMSE\")\r\n",
        "plt.show()"
      ],
      "execution_count": null,
      "outputs": []
    },
    {
      "cell_type": "markdown",
      "metadata": {
        "id": "k1ZCOJOjbzl3"
      },
      "source": [
        "**Regularization**\r\n",
        "\r\n",
        "***Read the Linear Regression notes in the course site and add a text paragraph after the regularization cell explaining the output. Create a plot of the RMSE vs model complexity with regularization.***\r\n",
        "\r\n"
      ]
    },
    {
      "cell_type": "markdown",
      "metadata": {
        "id": "mvw0-LqdfG3d"
      },
      "source": [
        "To avoid overfitting we have multiple strategies. One straightforward one is evident by observing the wild oscillations of weight vector, ***w*** elements as the model complexity, M increases. We can penalize such oscillations by introducing the l2 norm of ***w*** in our loss function.\r\n",
        "\r\n",
        "We introduc a new parameter lambda,λ that regulates the relative importance of the penalty term as compared to the Mean Square Error.This parameter together with the polynomial order is what we call hyperparameters and we need to optimize them as both are needed for the determination of our final hypothesis g.\r\n",
        "\r\n",
        "L(w)= 1/2 * i=1 to m ∑(g(**w**,xi) − yi )^2 + λ/2 * ∣∣w∣∣^2\r\n",
        "\r\n",
        "This type of solution is called regularization and because we effectively shrink the weight dynamic range it is also called in statistics shrinkage or ridge regression."
      ]
    },
    {
      "cell_type": "code",
      "metadata": {
        "id": "44rVHH5wcA5g"
      },
      "source": [
        "print(\"Create a plot of the RMSE vs model complexity with regularization.\")\r\n",
        "training_errors.append(rmse(model.predict(X_train), y_train))\r\n",
        "test_errors.append(rmse(model.predict(X_test), y_test + np.random.normal(scale=0.25, size=len(y_test))))\r\n",
        "plt.plot(training_errors, 'o-', mfc=\"none\", mec=\"b\", ms=10, c=\"b\", label=\"Training\")\r\n",
        "plt.plot(test_errors, 'o-', mfc=\"none\", mec=\"r\", ms=10, c=\"r\", label=\"Test\")\r\n",
        "plt.legend()\r\n",
        "plt.xlabel(\"model capacity (degree)\")\r\n",
        "plt.ylabel(\"RMSE\")\r\n",
        "plt.show()"
      ],
      "execution_count": null,
      "outputs": []
    },
    {
      "cell_type": "markdown",
      "metadata": {
        "id": "kfmJy1-96Xmo"
      },
      "source": [
        "### 1.2.6 Bayesian curve fitting"
      ]
    },
    {
      "cell_type": "code",
      "metadata": {
        "id": "GFCXxwiz6Xmo"
      },
      "source": [
        "model = BayesianRegression(alpha=2e-3, beta=2)\n",
        "model.fit(X_train, y_train)\n",
        "\n",
        "y, y_err = model.predict(X_test, return_std=True)\n",
        "plt.scatter(x_train, y_train, facecolor=\"none\", edgecolor=\"b\", s=50, label=\"training data\")\n",
        "plt.plot(x_test, y_test, c=\"g\", label=\"$\\sin(2\\pi x)$\")\n",
        "plt.plot(x_test, y, c=\"r\", label=\"mean\")\n",
        "plt.fill_between(x_test, y - y_err, y + y_err, color=\"pink\", label=\"std.\", alpha=0.5)\n",
        "plt.xlim(-0.1, 1.1)\n",
        "plt.ylim(-1.5, 1.5)\n",
        "plt.annotate(\"M=9\", xy=(0.8, 1))\n",
        "plt.xlabel('$x$')\n",
        "plt.ylabel('$y$') \n",
        "plt.legend(bbox_to_anchor=(1.05, 1.), loc=2, borderaxespad=0.)\n",
        "plt.show()"
      ],
      "execution_count": null,
      "outputs": []
    },
    {
      "cell_type": "code",
      "metadata": {
        "id": "i4VIskNS6Xmt"
      },
      "source": [
        ""
      ],
      "execution_count": null,
      "outputs": []
    }
  ]
}